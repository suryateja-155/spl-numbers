{
 "cells": [
  {
   "cell_type": "code",
   "execution_count": 3,
   "id": "b563c8a3-8fdb-474c-a37b-3d8480d9126d",
   "metadata": {},
   "outputs": [
    {
     "name": "stdin",
     "output_type": "stream",
     "text": [
      " 11\n",
      " 19\n"
     ]
    },
    {
     "name": "stdout",
     "output_type": "stream",
     "text": [
      "11 =not\n",
      "12 =not\n",
      "13 =not\n",
      "14 =not\n",
      "15 =not\n",
      "16 =not\n",
      "17 =not\n",
      "18 =not\n",
      "19 =yes,special number\n"
     ]
    }
   ],
   "source": [
    "n=int(input())#11\n",
    "m=int(input())#19\n",
    "for i in range(n,m+1):\n",
    "    first=i//10\n",
    "    second=i%10\n",
    "    sum=first+second\n",
    "    product=first*second\n",
    "    if(sum+product)==i:\n",
    "        print(i,\"=yes,special number\")\n",
    "    else:\n",
    "        print(i,\"=not\")"
   ]
  },
  {
   "cell_type": "code",
   "execution_count": null,
   "id": "1022da74-d514-4d94-95a7-5a7dd4adf3ef",
   "metadata": {},
   "outputs": [],
   "source": []
  }
 ],
 "metadata": {
  "kernelspec": {
   "display_name": "Python 3 (ipykernel)",
   "language": "python",
   "name": "python3"
  },
  "language_info": {
   "codemirror_mode": {
    "name": "ipython",
    "version": 3
   },
   "file_extension": ".py",
   "mimetype": "text/x-python",
   "name": "python",
   "nbconvert_exporter": "python",
   "pygments_lexer": "ipython3",
   "version": "3.12.4"
  }
 },
 "nbformat": 4,
 "nbformat_minor": 5
}
